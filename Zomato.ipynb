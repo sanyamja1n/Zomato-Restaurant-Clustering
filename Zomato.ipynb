{
  "nbformat": 4,
  "nbformat_minor": 0,
  "metadata": {
    "colab": {
      "private_outputs": true,
      "provenance": [],
      "collapsed_sections": [
        "vncDsAP0Gaoa",
        "FJNUwmbgGyua",
        "w6K7xa23Elo4",
        "yQaldy8SH6Dl",
        "mDgbUHAGgjLW",
        "O_i_v8NEhb9l",
        "HhfV-JJviCcP",
        "Y3lxredqlCYt",
        "3RnN4peoiCZX",
        "x71ZqKXriCWQ",
        "7hBIi_osiCS2",
        "JlHwYmJAmNHm",
        "35m5QtbWiB9F",
        "PoPl-ycgm1ru",
        "H0kj-8xxnORC",
        "nA9Y7ga8ng1Z",
        "PBTbrJXOngz2",
        "u3PMJOP6ngxN",
        "dauF4eBmngu3",
        "bKJF3rekwFvQ",
        "MSa1f5Uengrz",
        "GF8Ens_Soomf",
        "0wOQAZs5pc--",
        "K5QZ13OEpz2H",
        "lQ7QKXXCp7Bj",
        "448CDAPjqfQr",
        "KSlN3yHqYklG",
        "t6dVpIINYklI",
        "ijmpgYnKYklI",
        "-JiQyfWJYklI",
        "EM7whBJCYoAo",
        "fge-S5ZAYoAp",
        "85gYPyotYoAp",
        "RoGjAbkUYoAp",
        "4Of9eVA-YrdM",
        "iky9q4vBYrdO",
        "F6T5p64dYrdO",
        "y-Ehk30pYrdP",
        "bamQiAODYuh1",
        "QHF8YVU7Yuh3",
        "GwzvFGzlYuh3",
        "qYpmQ266Yuh3",
        "OH-pJp9IphqM",
        "bbFf2-_FphqN",
        "_ouA3fa0phqN",
        "Seke61FWphqN",
        "PIIx-8_IphqN",
        "t27r6nlMphqO",
        "r2jJGEOYphqO",
        "b0JNsNcRphqO",
        "BZR9WyysphqO",
        "jj7wYXLtphqO",
        "eZrbJ2SmphqO",
        "rFu4xreNphqO",
        "YJ55k-q6phqO",
        "gCFgpxoyphqP",
        "OVtJsKN_phqQ",
        "lssrdh5qphqQ",
        "U2RJ9gkRphqQ",
        "1M8mcRywphqQ",
        "tgIPom80phqQ",
        "JMzcOPDDphqR",
        "x-EpHcCOp1ci",
        "X_VqEhTip1ck",
        "8zGJKyg5p1ck",
        "PVzmfK_Ep1ck",
        "n3dbpmDWp1ck",
        "ylSl6qgtp1ck",
        "ZWILFDl5p1ck",
        "M7G43BXep1ck",
        "Ag9LCva-p1cl",
        "E6MkPsBcp1cl",
        "2cELzS2fp1cl",
        "3MPXvC8up1cl",
        "NC_X3p0fY2L0",
        "UV0SzAkaZNRQ",
        "YPEH6qLeZNRQ",
        "q29F0dvdveiT",
        "EXh0U9oCveiU",
        "22aHeOlLveiV",
        "g-ATYxFrGrvw",
        "Yfr_Vlr8HBkt",
        "8yEUt7NnHlrM",
        "tEA2Xm5dHt1r",
        "I79__PHVH19G",
        "Ou-I18pAyIpj",
        "fF3858GYyt-u",
        "4_0_7-oCpUZd",
        "hwyV_J3ipUZe",
        "3yB-zSqbpUZe",
        "dEUvejAfpUZe",
        "Fd15vwWVpUZf",
        "bn_IUdTipZyH",
        "49K5P_iCpZyH",
        "Nff-vKELpZyI",
        "kLW572S8pZyI",
        "dWbDXHzopZyI",
        "yLjJCtPM0KBk",
        "xiyOF9F70UgQ",
        "7wuGOrhz0itI",
        "id1riN9m0vUs",
        "578E2V7j08f6",
        "89xtkJwZ18nB",
        "67NQN5KX2AMe",
        "Iwf50b-R2tYG",
        "GMQiZwjn3iu7",
        "WVIkgGqN3qsr",
        "XkPnILGE3zoT",
        "Hlsf0x5436Go",
        "mT9DMSJo4nBL",
        "c49ITxTc407N",
        "OeJFEK0N496M",
        "9ExmJH0g5HBk",
        "cJNqERVU536h",
        "k5UmGsbsOxih",
        "T0VqWOYE6DLQ",
        "qBMux9mC6MCf",
        "-oLEiFgy-5Pf",
        "C74aWNz2AliB",
        "2DejudWSA-a0",
        "pEMng2IbBLp7",
        "rAdphbQ9Bhjc",
        "TNVZ9zx19K6k",
        "nqoHp30x9hH9",
        "rMDnDkt2B6du",
        "yiiVWRdJDDil",
        "1UUpS68QDMuG",
        "kexQrXU-DjzY",
        "T5CmagL3EC8N",
        "BhH2vgX9EjGr",
        "qjKvONjwE8ra",
        "P1XJ9OREExlT",
        "VFOzZv6IFROw",
        "TIqpNgepFxVj",
        "VfCC591jGiD4",
        "OB4l2ZhMeS1U",
        "ArJBuiUVfxKd",
        "4qY1EAkEfxKe",
        "PiV4Ypx8fxKe",
        "TfvqoZmBfxKf",
        "dJ2tPlVmpsJ0",
        "JWYfwnehpsJ1",
        "-jK_YjpMpsJ2",
        "HAih1iBOpsJ2",
        "zVGeBEFhpsJ2",
        "bmKjuQ-FpsJ3",
        "Fze-IPXLpx6K",
        "7AN1z2sKpx6M",
        "9PIHJqyupx6M",
        "_-qAgymDpx6N",
        "Z-hykwinpx6N",
        "h_CCil-SKHpo",
        "cBFFvTBNJzUa",
        "HvGl1hHyA_VK",
        "EyNgTHvd2WFk",
        "KH5McJBi2d8v",
        "iW_Lq9qf2h6X",
        "-Kee-DAl2viO",
        "gCX9965dhzqZ",
        "gIfDvo9L0UH2"
      ],
      "include_colab_link": true
    },
    "kernelspec": {
      "name": "python3",
      "display_name": "Python 3"
    },
    "language_info": {
      "name": "python"
    }
  },
  "cells": [
    {
      "cell_type": "markdown",
      "metadata": {
        "id": "view-in-github",
        "colab_type": "text"
      },
      "source": [
        "<a href=\"https://colab.research.google.com/github/sanyamja1n/Zomato-Restaurant-Clustering/blob/main/Zomato.ipynb\" target=\"_parent\"><img src=\"https://colab.research.google.com/assets/colab-badge.svg\" alt=\"Open In Colab\"/></a>"
      ]
    },
    {
      "cell_type": "markdown",
      "source": [
        "# **Project Name**    - Zomato Restaurant Clustering & Sentiment Analysis\n",
        "\n"
      ],
      "metadata": {
        "id": "vncDsAP0Gaoa"
      }
    },
    {
      "cell_type": "markdown",
      "source": [
        "##### **Project Type**    - Unsupervised\n",
        "##### **Contribution**    - Team\n",
        "##### **Team Member 1 -** Sanyam Jain\n",
        "##### **Team Member 2 -** Yaseer Khan\n",
        "##### **Team Member 3 -** Yaser Zaidi\n",
        "##### **Team Member 4 -** Shraddha Shandilya\n",
        "##### **Team Member 5 -** Abhishek Bhargava"
      ],
      "metadata": {
        "id": "beRrZCGUAJYm"
      }
    },
    {
      "cell_type": "markdown",
      "source": [
        "# **Project Summary -**"
      ],
      "metadata": {
        "id": "FJNUwmbgGyua"
      }
    },
    {
      "cell_type": "markdown",
      "source": [
        "This project entailed the utilization of advanced data analytics techniques to gain a deeper understanding of the restaurants and customer feedback on the online food delivery platform, Zomato.\n",
        "\n",
        "The data procured included information such as the restaurant's name, cuisines, ratings, and user reviews.\n",
        "\n",
        "Subsequently, we embarked on the task of data cleaning and preprocessing, which involved the elimination of duplicate entries, addressing missing values, and transforming the data into a format amenable to analysis.\n",
        "\n",
        "The next step was the implementation of clustering on the restaurant data through the use of the k-means algorithm. The number of clusters was determined by elbow method.\n",
        "\n",
        "We then proceeded to conduct sentiment analysis on the user reviews to gain a comprehensive understanding of the overall sentiment towards the restaurants. Certain libraries were utilized to classify the reviews as positive, negative, or neutral."
      ],
      "metadata": {
        "id": "F6v_1wHtG2nS"
      }
    },
    {
      "cell_type": "markdown",
      "source": [
        "# **GitHub Link -**"
      ],
      "metadata": {
        "id": "w6K7xa23Elo4"
      }
    },
    {
      "cell_type": "markdown",
      "source": [
        "https://github.com/sanyamja1n/Zomato-Restaurant-Clustering"
      ],
      "metadata": {
        "id": "h1o69JH3Eqqn"
      }
    },
    {
      "cell_type": "markdown",
      "source": [
        "# **Problem Statement**\n"
      ],
      "metadata": {
        "id": "yQaldy8SH6Dl"
      }
    },
    {
      "cell_type": "markdown",
      "source": [
        "The problem statement for this project is to analyze and understand the restaurant industry in India by utilizing data from the Zomato. The project aims to gain insights into the sentiments of customer reviews, cluster Zomato restaurants, and analyze the data to make useful conclusions in the form of visualizations. Additionally, the project aims to use the data for sentiment analysis and identifying critics in the industry through the metadata of reviewers."
      ],
      "metadata": {
        "id": "DpeJGUA3kjGy"
      }
    },
    {
      "cell_type": "markdown",
      "source": [
        "# **General Guidelines** : -  "
      ],
      "metadata": {
        "id": "mDgbUHAGgjLW"
      }
    },
    {
      "cell_type": "markdown",
      "source": [
        "1.   Well-structured, formatted, and commented code is required. \n",
        "2.   Exception Handling, Production Grade Code & Deployment Ready Code will be a plus. Those students will be awarded some additional credits. \n",
        "     \n",
        "     The additional credits will have advantages over other students during Star Student selection.\n",
        "       \n",
        "             [ Note: - Deployment Ready Code is defined as, the whole .ipynb notebook should be executable in one go\n",
        "                       without a single error logged. ]\n",
        "\n",
        "3.   Each and every logic should have proper comments.\n",
        "4. You may add as many number of charts you want. Make Sure for each and every chart the following format should be answered.\n",
        "        \n",
        "\n",
        "```\n",
        "# Chart visualization code\n",
        "```\n",
        "            \n",
        "\n",
        "*   Why did you pick the specific chart?\n",
        "*   What is/are the insight(s) found from the chart?\n",
        "* Will the gained insights help creating a positive business impact? \n",
        "Are there any insights that lead to negative growth? Justify with specific reason.\n",
        "\n",
        "5. You have to create at least 15 logical & meaningful charts having important insights.\n",
        "\n",
        "\n",
        "[ Hints : - Do the Vizualization in  a structured way while following \"UBM\" Rule. \n",
        "\n",
        "U - Univariate Analysis,\n",
        "\n",
        "B - Bivariate Analysis (Numerical - Categorical, Numerical - Numerical, Categorical - Categorical)\n",
        "\n",
        "M - Multivariate Analysis\n",
        " ]\n",
        "\n",
        "\n",
        "\n",
        "\n",
        "\n",
        "6. You may add more ml algorithms for model creation. Make sure for each and every algorithm, the following format should be answered.\n",
        "\n",
        "\n",
        "*   Explain the ML Model used and it's performance using Evaluation metric Score Chart.\n",
        "\n",
        "\n",
        "*   Cross- Validation & Hyperparameter Tuning\n",
        "\n",
        "*   Have you seen any improvement? Note down the improvement with updates Evaluation metric Score Chart.\n",
        "\n",
        "*   Explain each evaluation metric's indication towards business and the business impact pf the ML model used.\n",
        "\n",
        "\n",
        "\n",
        "\n",
        "\n",
        "\n",
        "\n",
        "\n",
        "\n",
        "\n",
        "\n",
        "\n",
        "\n",
        "\n",
        "\n",
        "\n",
        "\n",
        "\n"
      ],
      "metadata": {
        "id": "ZrxVaUj-hHfC"
      }
    },
    {
      "cell_type": "markdown",
      "source": [
        "# ***Let's Begin !***"
      ],
      "metadata": {
        "id": "O_i_v8NEhb9l"
      }
    },
    {
      "cell_type": "markdown",
      "source": [
        "## ***1. Know Your Data***"
      ],
      "metadata": {
        "id": "HhfV-JJviCcP"
      }
    },
    {
      "cell_type": "markdown",
      "source": [
        "### Import Libraries"
      ],
      "metadata": {
        "id": "Y3lxredqlCYt"
      }
    },
    {
      "cell_type": "code",
      "source": [
        "# Import Libraries\n",
        "import pandas as pd\n",
        "import numpy as np\n",
        "import matplotlib.pyplot as plt\n",
        "import matplotlib.cm as cm\n",
        "import seaborn as sns\n",
        "from wordcloud import WordCloud\n",
        "\n",
        "from sklearn.model_selection import train_test_split\n",
        "from sklearn.cluster import KMeans\n",
        "from sklearn.preprocessing import MinMaxScaler, StandardScaler\n",
        "from sklearn import metrics\n",
        "from sklearn.metrics import silhouette_samples, silhouette_score\n",
        "import spacy\n",
        "\n",
        "from sklearn.linear_model import LogisticRegression\n",
        "from sklearn.tree import DecisionTreeClassifier\n",
        "from sklearn.ensemble import RandomForestClassifier\n",
        "from sklearn.svm import SVC\n",
        "from xgboost import XGBClassifier\n",
        "\n",
        "import scipy.cluster.hierarchy as sch\n",
        "from sklearn.cluster import AgglomerativeClustering\n",
        "\n",
        "from lightgbm import LGBMClassifier\n",
        "from sklearn.naive_bayes import GaussianNB\n",
        "from sklearn.neighbors import KNeighborsClassifier\n",
        "from sklearn.ensemble import ExtraTreesClassifier, AdaBoostClassifier\n",
        "from sklearn.model_selection import GridSearchCV\n",
        "import time\n",
        "\n",
        "from textblob import TextBlob\n",
        "from sklearn.feature_extraction.text import CountVectorizer, TfidfVectorizer\n",
        "import plotly.express as px\n",
        "import re\n",
        "import string\n",
        "!pip install contractions\n",
        "import contractions\n",
        "import nltk\n",
        "nltk.download('stopwords')\n",
        "nltk.download('punkt')\n",
        "nltk.download('omw-1.4')\n",
        "nltk.download('wordnet')\n",
        "from nltk.corpus import stopwords\n",
        "\n",
        "\n",
        "from sklearn.metrics import accuracy_score, confusion_matrix,roc_auc_score, classification_report, f1_score\n",
        "\n",
        "import warnings\n",
        "warnings.filterwarnings('ignore')\n"
      ],
      "metadata": {
        "id": "M8Vqi-pPk-HR"
      },
      "execution_count": null,
      "outputs": []
    },
    {
      "cell_type": "markdown",
      "source": [
        "### Dataset Loading"
      ],
      "metadata": {
        "id": "3RnN4peoiCZX"
      }
    },
    {
      "cell_type": "code",
      "source": [
        "#Google Drive Mount\n",
        "from google.colab import drive\n",
        "drive.mount('/content/drive')"
      ],
      "metadata": {
        "id": "eqkFgtWxoUJf"
      },
      "execution_count": null,
      "outputs": []
    },
    {
      "cell_type": "code",
      "source": [
        "# Loading the data\n",
        "meta_df = pd.read_csv('/content/drive/MyDrive/Sample Data/Zomato Restaurant names and Metadata.csv')\n",
        "reviews_df = pd.read_csv('/content/drive/MyDrive/Sample Data/Zomato Restaurant reviews.csv')"
      ],
      "metadata": {
        "id": "4CkvbW_SlZ_R"
      },
      "execution_count": null,
      "outputs": []
    },
    {
      "cell_type": "markdown",
      "source": [
        "### Dataset First View"
      ],
      "metadata": {
        "id": "x71ZqKXriCWQ"
      }
    },
    {
      "cell_type": "code",
      "source": [
        "# Dataset First Look\n",
        "meta_df.head()"
      ],
      "metadata": {
        "id": "LWNFOSvLl09H"
      },
      "execution_count": null,
      "outputs": []
    },
    {
      "cell_type": "code",
      "source": [
        "reviews_df.head()"
      ],
      "metadata": {
        "id": "vRshgEN7tM9h"
      },
      "execution_count": null,
      "outputs": []
    },
    {
      "cell_type": "markdown",
      "source": [
        "### Dataset Rows & Columns count"
      ],
      "metadata": {
        "id": "7hBIi_osiCS2"
      }
    },
    {
      "cell_type": "code",
      "source": [
        "# Dataset Rows & Columns count\n",
        "meta_df.shape"
      ],
      "metadata": {
        "id": "Kllu7SJgmLij"
      },
      "execution_count": null,
      "outputs": []
    },
    {
      "cell_type": "code",
      "source": [
        "reviews_df.shape"
      ],
      "metadata": {
        "id": "gJxcBY1FtSvB"
      },
      "execution_count": null,
      "outputs": []
    },
    {
      "cell_type": "markdown",
      "source": [
        "### Dataset Information"
      ],
      "metadata": {
        "id": "JlHwYmJAmNHm"
      }
    },
    {
      "cell_type": "code",
      "source": [
        "# Dataset Info\n",
        "meta_df.info()"
      ],
      "metadata": {
        "id": "e9hRXRi6meOf"
      },
      "execution_count": null,
      "outputs": []
    },
    {
      "cell_type": "code",
      "source": [
        "reviews_df.info()"
      ],
      "metadata": {
        "id": "ASDA-rp3tV3R"
      },
      "execution_count": null,
      "outputs": []
    },
    {
      "cell_type": "markdown",
      "source": [
        "#### Duplicate Values"
      ],
      "metadata": {
        "id": "35m5QtbWiB9F"
      }
    },
    {
      "cell_type": "code",
      "source": [
        "# Dataset Duplicate Value Count\n",
        "meta_df.duplicated().sum()"
      ],
      "metadata": {
        "id": "1sLdpKYkmox0"
      },
      "execution_count": null,
      "outputs": []
    },
    {
      "cell_type": "code",
      "source": [
        "reviews_df.duplicated().sum()"
      ],
      "metadata": {
        "id": "yfQQ1cFitZta"
      },
      "execution_count": null,
      "outputs": []
    },
    {
      "cell_type": "code",
      "source": [
        "#Dropping Duplicates\n",
        "reviews_df.drop_duplicates(inplace = True)"
      ],
      "metadata": {
        "id": "fvtaxnKttewB"
      },
      "execution_count": null,
      "outputs": []
    },
    {
      "cell_type": "markdown",
      "source": [
        "#### Missing Values/Null Values"
      ],
      "metadata": {
        "id": "PoPl-ycgm1ru"
      }
    },
    {
      "cell_type": "code",
      "source": [
        "# Missing Values/Null Values Count\n",
        "meta_df.isnull().sum() # Checking null values"
      ],
      "metadata": {
        "id": "GgHWkxvamxVg"
      },
      "execution_count": null,
      "outputs": []
    },
    {
      "cell_type": "code",
      "source": [
        "#Since more than 50% of the collection column data is missing so we will drop this column\n",
        "meta_df.drop('Collections', axis = 1, inplace = True)"
      ],
      "metadata": {
        "id": "Rg7KMtUqeOMu"
      },
      "execution_count": null,
      "outputs": []
    },
    {
      "cell_type": "code",
      "source": [
        "reviews_df.isnull().sum()"
      ],
      "metadata": {
        "id": "G4ZQ26cwttRU"
      },
      "execution_count": null,
      "outputs": []
    },
    {
      "cell_type": "code",
      "source": [
        "# Removing the null value\n",
        "reviews_df.dropna(inplace= True)"
      ],
      "metadata": {
        "id": "MENFR9ertzpO"
      },
      "execution_count": null,
      "outputs": []
    },
    {
      "cell_type": "markdown",
      "source": [
        "### What did you know about your dataset?"
      ],
      "metadata": {
        "id": "H0kj-8xxnORC"
      }
    },
    {
      "cell_type": "markdown",
      "source": [
        "**Restaurant DataSet**\n",
        "* There are 105 total observation with 6 different features.\n",
        "\n",
        "* There is no duplicate values i.e., 105 unique data.\n",
        "* Feature cost represent amount but has object data type because these values are separated by comma ','.\n",
        "\n",
        "\n",
        "**Review DataSet**\n",
        "* There are total 10000 observation and 7 features.\n",
        "* Except picture and restaurant feature all others have null values.\n",
        "* There are total of 36 duplicate values.\n"
      ],
      "metadata": {
        "id": "gfoNAAC-nUe_"
      }
    },
    {
      "cell_type": "markdown",
      "source": [
        "## ***2. Understanding Your Variables***"
      ],
      "metadata": {
        "id": "nA9Y7ga8ng1Z"
      }
    },
    {
      "cell_type": "code",
      "source": [
        "# Dataset Columns\n",
        "meta_df.columns"
      ],
      "metadata": {
        "id": "j7xfkqrt5Ag5"
      },
      "execution_count": null,
      "outputs": []
    },
    {
      "cell_type": "code",
      "source": [
        "reviews_df.columns"
      ],
      "metadata": {
        "id": "Snk0zD1tuNnV"
      },
      "execution_count": null,
      "outputs": []
    },
    {
      "cell_type": "code",
      "source": [
        "# Dataset Describe\n",
        "reviews_df.describe(include = 'all').T"
      ],
      "metadata": {
        "id": "DnOaZdaE5Q5t"
      },
      "execution_count": null,
      "outputs": []
    },
    {
      "cell_type": "code",
      "source": [
        "meta_df.describe()"
      ],
      "metadata": {
        "id": "gi6gUPqUuRtS"
      },
      "execution_count": null,
      "outputs": []
    },
    {
      "cell_type": "code",
      "source": [
        "# checking for unique values in cost\n",
        "meta_df.Cost.value_counts()"
      ],
      "metadata": {
        "id": "dZqlQbN5uX9q"
      },
      "execution_count": null,
      "outputs": []
    },
    {
      "cell_type": "markdown",
      "source": [
        "### Variables Description "
      ],
      "metadata": {
        "id": "PBTbrJXOngz2"
      }
    },
    {
      "cell_type": "markdown",
      "source": [
        "![2222.png](data:image/png;base64,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)![1111.png](data:image/png;base64,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)"
      ],
      "metadata": {
        "id": "aJV4KIxSnxay"
      }
    },
    {
      "cell_type": "markdown",
      "source": [
        "### Check Unique Values for each variable."
      ],
      "metadata": {
        "id": "u3PMJOP6ngxN"
      }
    },
    {
      "cell_type": "code",
      "source": [
        "# Check Unique Values for each variable.\n",
        "reviews_df.nunique()"
      ],
      "metadata": {
        "id": "zms12Yq5n-jE"
      },
      "execution_count": null,
      "outputs": []
    },
    {
      "cell_type": "code",
      "source": [
        "reviews_df['Rating'].value_counts()"
      ],
      "metadata": {
        "id": "dktcdOCX15Tg"
      },
      "execution_count": null,
      "outputs": []
    },
    {
      "cell_type": "code",
      "source": [
        "meta_df.nunique()"
      ],
      "metadata": {
        "id": "10bPL9gdvRbg"
      },
      "execution_count": null,
      "outputs": []
    },
    {
      "cell_type": "markdown",
      "source": [
        "##  ***3. Data Wrangling***"
      ],
      "metadata": {
        "id": "dauF4eBmngu3"
      }
    },
    {
      "cell_type": "markdown",
      "source": [
        "### Data Wrangling Code"
      ],
      "metadata": {
        "id": "bKJF3rekwFvQ"
      }
    },
    {
      "cell_type": "code",
      "source": [
        "# changing the data type of the cost\n",
        "meta_df['Cost'] = meta_df['Cost'].str.replace(\",\",\"\").astype('int64')"
      ],
      "metadata": {
        "id": "wk-9a2fpoLcV"
      },
      "execution_count": null,
      "outputs": []
    },
    {
      "cell_type": "code",
      "source": [
        "# remove the row with rating 'Like' as only 1 row has this value and then converting rating datatype to float\n",
        "reviews_df = reviews_df[reviews_df['Rating'] !='Like']\n",
        "reviews_df['Rating'] = reviews_df['Rating'].astype(float)"
      ],
      "metadata": {
        "id": "hYm9GpoV1-uU"
      },
      "execution_count": null,
      "outputs": []
    },
    {
      "cell_type": "code",
      "source": [
        "#Splitting \"Metadata\" column into reviews and followers column\n",
        "reviews_df['Reviews'],reviews_df['Followers']=reviews_df['Metadata'].str.split(',').str\n",
        "reviews_df['Reviews'] = pd.to_numeric(reviews_df['Reviews'].str.split(' ').str[0])\n",
        "reviews_df['Followers'] = pd.to_numeric(reviews_df['Followers'].str.split(' ').str[1])\n",
        "reviews_df = reviews_df.drop(['Metadata'], axis =1)"
      ],
      "metadata": {
        "id": "xOhuUK6w2hFZ"
      },
      "execution_count": null,
      "outputs": []
    },
    {
      "cell_type": "code",
      "source": [
        "#Converting \"Time\" column datatype to datetime and then extracting Year, month, day and hour from it\n",
        "reviews_df['Time']=pd.to_datetime(reviews_df['Time'])\n",
        "reviews_df['Year'] = pd.DatetimeIndex(reviews_df['Time']).year\n",
        "reviews_df['Month'] = pd.DatetimeIndex(reviews_df['Time']).month\n",
        "reviews_df['Day'] = pd.DatetimeIndex(reviews_df['Time']).day\n",
        "reviews_df['Hour'] = pd.DatetimeIndex(reviews_df['Time']).hour"
      ],
      "metadata": {
        "id": "-DQN3wa15ZMx"
      },
      "execution_count": null,
      "outputs": []
    },
    {
      "cell_type": "code",
      "source": [
        "#checking for null values\n",
        "reviews_df.isna().sum()"
      ],
      "metadata": {
        "id": "CuZlBMge2J6U"
      },
      "execution_count": null,
      "outputs": []
    },
    {
      "cell_type": "code",
      "source": [
        "# filling the nan values of followers by 0\n",
        "reviews_df['Followers'].fillna(0,inplace=True)"
      ],
      "metadata": {
        "id": "SrjfnpyNWhvd"
      },
      "execution_count": null,
      "outputs": []
    },
    {
      "cell_type": "code",
      "source": [
        "# Making list of cuisine\n",
        "cuisine_list=meta_df.Cuisines.str.split(', ')\n",
        "cuisine_list"
      ],
      "metadata": {
        "id": "pqibdSjbX14i"
      },
      "execution_count": null,
      "outputs": []
    },
    {
      "cell_type": "code",
      "source": [
        "# storing all the cusines in a dict \n",
        "cuis_dict = {}\n",
        "for names in cuisine_list:\n",
        "    for name in names:\n",
        "        if (name in cuis_dict):\n",
        "            cuis_dict[name]+=1\n",
        "        else:  \n",
        "            cuis_dict[name]=1 "
      ],
      "metadata": {
        "id": "Jx6TmnPHX39X"
      },
      "execution_count": null,
      "outputs": []
    },
    {
      "cell_type": "code",
      "source": [
        "cuis_dict"
      ],
      "metadata": {
        "id": "fwtsEpkEX36D"
      },
      "execution_count": null,
      "outputs": []
    },
    {
      "cell_type": "code",
      "source": [
        "# converting the dict to a data frame \n",
        "cuis_df=pd.DataFrame.from_dict([cuis_dict]).transpose().reset_index().rename(columns={'index':'Cuisine',0:'Number of Restaurants'}).sort_values('Number of Restaurants', ascending= False)"
      ],
      "metadata": {
        "id": "CGlUW4ZnX33Z"
      },
      "execution_count": null,
      "outputs": []
    },
    {
      "cell_type": "code",
      "source": [
        "cuis_df"
      ],
      "metadata": {
        "id": "BJZYU43AX30a"
      },
      "execution_count": null,
      "outputs": []
    },
    {
      "cell_type": "markdown",
      "source": [
        "## ***4. Data Vizualization, Storytelling & Experimenting with charts : Understand the relationships between variables***"
      ],
      "metadata": {
        "id": "GF8Ens_Soomf"
      }
    },
    {
      "cell_type": "markdown",
      "source": [
        "#### Chart - 1 Most Expensive Restaurant"
      ],
      "metadata": {
        "id": "0wOQAZs5pc--"
      }
    },
    {
      "cell_type": "code",
      "source": [
        "# checking most expensive\n",
        "plt.figure(figsize = (12,5))\n",
        "sns.barplot(data = meta_df.sort_values(by = 'Cost',ascending = False)[:15], \n",
        "            y= 'Name', \n",
        "            x= 'Cost' )\n",
        "plt.title('15 Most Expensive restaurant')\n",
        "plt.show()"
      ],
      "metadata": {
        "id": "7v_ESjsspbW7"
      },
      "execution_count": null,
      "outputs": []
    },
    {
      "cell_type": "markdown",
      "source": [
        "##### 1. Why did you pick the specific chart?"
      ],
      "metadata": {
        "id": "K5QZ13OEpz2H"
      }
    },
    {
      "cell_type": "markdown",
      "source": [
        "To check top 15 most expensive restaurant."
      ],
      "metadata": {
        "id": "XESiWehPqBRc"
      }
    },
    {
      "cell_type": "markdown",
      "source": [
        "##### 2. What is/are the insight(s) found from the chart?"
      ],
      "metadata": {
        "id": "lQ7QKXXCp7Bj"
      }
    },
    {
      "cell_type": "markdown",
      "source": [
        "Collage - Hyatt Hyderabad Gachibowli is the most expensive restaurant followed by Feast - Sheraton Hyderabad Hotel."
      ],
      "metadata": {
        "id": "C_j1G7yiqdRP"
      }
    },
    {
      "cell_type": "markdown",
      "source": [
        "##### 3. Will the gained insights help creating a positive business impact? \n",
        "Are there any insights that lead to negative growth? Justify with specific reason."
      ],
      "metadata": {
        "id": "448CDAPjqfQr"
      }
    },
    {
      "cell_type": "markdown",
      "source": [
        "Yes, it will help."
      ],
      "metadata": {
        "id": "3cspy4FjqxJW"
      }
    },
    {
      "cell_type": "markdown",
      "source": [
        "#### Chart - 2 Most Affordable Restaurant"
      ],
      "metadata": {
        "id": "KSlN3yHqYklG"
      }
    },
    {
      "cell_type": "code",
      "source": [
        "# checking  most afforatble Resturent\n",
        "plt.figure(figsize = (12,5))\n",
        "sns.barplot(data = meta_df.sort_values(by = 'Cost',ascending = False)[-15:], \n",
        "            y= 'Name', \n",
        "            x= 'Cost' )\n",
        "plt.title('15 Most Affortable Restaurant')\n",
        "plt.show()"
      ],
      "metadata": {
        "id": "R4YgtaqtYklH"
      },
      "execution_count": null,
      "outputs": []
    },
    {
      "cell_type": "markdown",
      "source": [
        "##### 1. Why did you pick the specific chart?"
      ],
      "metadata": {
        "id": "t6dVpIINYklI"
      }
    },
    {
      "cell_type": "markdown",
      "source": [
        "To check top 15 most affordable restaurant."
      ],
      "metadata": {
        "id": "5aaW0BYyYklI"
      }
    },
    {
      "cell_type": "markdown",
      "source": [
        "##### 2. What is/are the insight(s) found from the chart?"
      ],
      "metadata": {
        "id": "ijmpgYnKYklI"
      }
    },
    {
      "cell_type": "markdown",
      "source": [
        "Amul is the most affordable restaurant."
      ],
      "metadata": {
        "id": "PSx9atu2YklI"
      }
    },
    {
      "cell_type": "markdown",
      "source": [
        "##### 3. Will the gained insights help creating a positive business impact? \n",
        "Are there any insights that lead to negative growth? Justify with specific reason."
      ],
      "metadata": {
        "id": "-JiQyfWJYklI"
      }
    },
    {
      "cell_type": "markdown",
      "source": [
        "Yes, it will help."
      ],
      "metadata": {
        "id": "BcBbebzrYklV"
      }
    },
    {
      "cell_type": "markdown",
      "source": [
        "#### Chart - 3 Rating Count"
      ],
      "metadata": {
        "id": "EM7whBJCYoAo"
      }
    },
    {
      "cell_type": "code",
      "source": [
        "sns.countplot(reviews_df.Rating)\n",
        "plt.title('Rating count')\n",
        "plt.show()"
      ],
      "metadata": {
        "id": "t6GMdE67YoAp"
      },
      "execution_count": null,
      "outputs": []
    },
    {
      "cell_type": "markdown",
      "source": [
        "##### 1. Why did you pick the specific chart?"
      ],
      "metadata": {
        "id": "fge-S5ZAYoAp"
      }
    },
    {
      "cell_type": "markdown",
      "source": [
        "To check the rating count."
      ],
      "metadata": {
        "id": "5dBItgRVYoAp"
      }
    },
    {
      "cell_type": "markdown",
      "source": [
        "##### 2. What is/are the insight(s) found from the chart?"
      ],
      "metadata": {
        "id": "85gYPyotYoAp"
      }
    },
    {
      "cell_type": "markdown",
      "source": [
        "Most of the reviews are 5 rated followed by 4 and then 1."
      ],
      "metadata": {
        "id": "4jstXR6OYoAp"
      }
    },
    {
      "cell_type": "markdown",
      "source": [
        "##### 3. Will the gained insights help creating a positive business impact? \n",
        "Are there any insights that lead to negative growth? Justify with specific reason."
      ],
      "metadata": {
        "id": "RoGjAbkUYoAp"
      }
    },
    {
      "cell_type": "markdown",
      "source": [
        "Yes, it will help."
      ],
      "metadata": {
        "id": "zfJ8IqMcYoAp"
      }
    },
    {
      "cell_type": "markdown",
      "source": [
        "#### Chart - 4 Highest Rated Restaurants"
      ],
      "metadata": {
        "id": "4Of9eVA-YrdM"
      }
    },
    {
      "cell_type": "code",
      "source": [
        "# Restaurant with highest avg ratings\n",
        "sns.barplot(data = reviews_df.groupby('Restaurant')['Rating'].mean().reset_index().sort_values(by= 'Rating', ascending = False)[:10],\n",
        "            y = 'Restaurant', \n",
        "            x = 'Rating')\n",
        "plt.title('Restaurant with highest ratings')\n",
        "plt.show()"
      ],
      "metadata": {
        "id": "irlUoxc8YrdO"
      },
      "execution_count": null,
      "outputs": []
    },
    {
      "cell_type": "markdown",
      "source": [
        "##### 1. Why did you pick the specific chart?"
      ],
      "metadata": {
        "id": "iky9q4vBYrdO"
      }
    },
    {
      "cell_type": "markdown",
      "source": [
        "To check top 10 highest rated restaurant."
      ],
      "metadata": {
        "id": "aJRCwT6DYrdO"
      }
    },
    {
      "cell_type": "markdown",
      "source": [
        "##### 2. What is/are the insight(s) found from the chart?"
      ],
      "metadata": {
        "id": "F6T5p64dYrdO"
      }
    },
    {
      "cell_type": "markdown",
      "source": [
        "AB's - Absolute Barbecues is the highest rated restaurant."
      ],
      "metadata": {
        "id": "Xx8WAJvtYrdO"
      }
    },
    {
      "cell_type": "markdown",
      "source": [
        "##### 3. Will the gained insights help creating a positive business impact? \n",
        "Are there any insights that lead to negative growth? Justify with specific reason."
      ],
      "metadata": {
        "id": "y-Ehk30pYrdP"
      }
    },
    {
      "cell_type": "markdown",
      "source": [
        "Yes, it will help."
      ],
      "metadata": {
        "id": "jLNxxz7MYrdP"
      }
    },
    {
      "cell_type": "markdown",
      "source": [
        "#### Chart - 5 Worst Rated Restaurant "
      ],
      "metadata": {
        "id": "bamQiAODYuh1"
      }
    },
    {
      "cell_type": "code",
      "source": [
        "# Restaurant with lowest avg ratings\n",
        "sns.barplot(data = reviews_df.groupby('Restaurant')['Rating'].mean().reset_index().sort_values(by= 'Rating', ascending = False)[-10:],\n",
        "            y = 'Restaurant', x = 'Rating')\n",
        "plt.title('Restaurant with lowest ratings')\n",
        "plt.show()"
      ],
      "metadata": {
        "id": "TIJwrbroYuh3"
      },
      "execution_count": null,
      "outputs": []
    },
    {
      "cell_type": "markdown",
      "source": [
        "##### 1. Why did you pick the specific chart?"
      ],
      "metadata": {
        "id": "QHF8YVU7Yuh3"
      }
    },
    {
      "cell_type": "markdown",
      "source": [
        "To check lowest rated restaurant."
      ],
      "metadata": {
        "id": "dcxuIMRPYuh3"
      }
    },
    {
      "cell_type": "markdown",
      "source": [
        "##### 2. What is/are the insight(s) found from the chart?"
      ],
      "metadata": {
        "id": "GwzvFGzlYuh3"
      }
    },
    {
      "cell_type": "markdown",
      "source": [
        "Hotel Zara Hi-Fi is the lowest rated restaurant followed by Asian Meal Box."
      ],
      "metadata": {
        "id": "uyqkiB8YYuh3"
      }
    },
    {
      "cell_type": "markdown",
      "source": [
        "##### 3. Will the gained insights help creating a positive business impact? \n",
        "Are there any insights that lead to negative growth? Justify with specific reason."
      ],
      "metadata": {
        "id": "qYpmQ266Yuh3"
      }
    },
    {
      "cell_type": "markdown",
      "source": [
        "Yes, it will help."
      ],
      "metadata": {
        "id": "_WtzZ_hCYuh4"
      }
    },
    {
      "cell_type": "markdown",
      "source": [
        "#### Chart - 6 Top Reviewers by no. of reviews"
      ],
      "metadata": {
        "id": "OH-pJp9IphqM"
      }
    },
    {
      "cell_type": "code",
      "source": [
        "df_Reviewer = reviews_df.groupby(['Reviewer']).agg({'Reviews': 'sum', 'Followers':'sum', 'Rating': 'mean'}).reset_index()\n",
        "\n",
        "# Top 15 reviewers by review count\n",
        "sns.barplot(data=df_Reviewer, x='Reviews', y='Reviewer', order=df_Reviewer.sort_values('Reviews',ascending=False).Reviewer[:15])\n",
        "plt.title('Top 15 Reviewers by no of reviews')\n",
        "plt.show()\n"
      ],
      "metadata": {
        "id": "kuRf4wtuphqN"
      },
      "execution_count": null,
      "outputs": []
    },
    {
      "cell_type": "markdown",
      "source": [
        "##### 1. Why did you pick the specific chart?"
      ],
      "metadata": {
        "id": "bbFf2-_FphqN"
      }
    },
    {
      "cell_type": "markdown",
      "source": [
        "To check top 15 Reviewers by no. of reviews."
      ],
      "metadata": {
        "id": "loh7H2nzphqN"
      }
    },
    {
      "cell_type": "markdown",
      "source": [
        "##### 2. What is/are the insight(s) found from the chart?"
      ],
      "metadata": {
        "id": "_ouA3fa0phqN"
      }
    },
    {
      "cell_type": "markdown",
      "source": [
        "Anvesh Chowdary has highest no. of reviews followed by Raghu."
      ],
      "metadata": {
        "id": "VECbqPI7phqN"
      }
    },
    {
      "cell_type": "markdown",
      "source": [
        "##### 3. Will the gained insights help creating a positive business impact? \n",
        "Are there any insights that lead to negative growth? Justify with specific reason."
      ],
      "metadata": {
        "id": "Seke61FWphqN"
      }
    },
    {
      "cell_type": "markdown",
      "source": [
        "Yes, it will help."
      ],
      "metadata": {
        "id": "DW4_bGpfphqN"
      }
    },
    {
      "cell_type": "markdown",
      "source": [
        "#### Chart - 7 Top reviewers by no. of followers"
      ],
      "metadata": {
        "id": "PIIx-8_IphqN"
      }
    },
    {
      "cell_type": "code",
      "source": [
        "sns.barplot(data=df_Reviewer, x='Followers', y='Reviewer', order=df_Reviewer.sort_values('Followers',ascending=False).Reviewer[:15])\n",
        "plt.title('Top 15 Reviewers by no of Followers')\n",
        "plt.show()"
      ],
      "metadata": {
        "id": "lqAIGUfyphqO"
      },
      "execution_count": null,
      "outputs": []
    },
    {
      "cell_type": "markdown",
      "source": [
        "##### 1. Why did you pick the specific chart?"
      ],
      "metadata": {
        "id": "t27r6nlMphqO"
      }
    },
    {
      "cell_type": "markdown",
      "source": [
        "To check top 15 Reviewers by no. of followers."
      ],
      "metadata": {
        "id": "iv6ro40sphqO"
      }
    },
    {
      "cell_type": "markdown",
      "source": [
        "##### 2. What is/are the insight(s) found from the chart?"
      ],
      "metadata": {
        "id": "r2jJGEOYphqO"
      }
    },
    {
      "cell_type": "markdown",
      "source": [
        "Satwinder Singh has most no. of followers."
      ],
      "metadata": {
        "id": "Po6ZPi4hphqO"
      }
    },
    {
      "cell_type": "markdown",
      "source": [
        "##### 3. Will the gained insights help creating a positive business impact? \n",
        "Are there any insights that lead to negative growth? Justify with specific reason."
      ],
      "metadata": {
        "id": "b0JNsNcRphqO"
      }
    },
    {
      "cell_type": "markdown",
      "source": [
        "Yes, it will help."
      ],
      "metadata": {
        "id": "xvSq8iUTphqO"
      }
    },
    {
      "cell_type": "markdown",
      "source": [
        "#### Chart - 8 Reviews Count wrt Time"
      ],
      "metadata": {
        "id": "BZR9WyysphqO"
      }
    },
    {
      "cell_type": "code",
      "source": [
        "# Hist plot on Time columns\n",
        "plt.figure(figsize = (12,7))\n",
        "sns.histplot(reviews_df.Time)\n",
        "plt.title('Reviews count w.r.t Time')\n",
        "plt.show()"
      ],
      "metadata": {
        "id": "TdPTWpAVphqO"
      },
      "execution_count": null,
      "outputs": []
    },
    {
      "cell_type": "markdown",
      "source": [
        "##### 1. Why did you pick the specific chart?"
      ],
      "metadata": {
        "id": "jj7wYXLtphqO"
      }
    },
    {
      "cell_type": "markdown",
      "source": [
        "To check review count distribution over time."
      ],
      "metadata": {
        "id": "Ob8u6rCTphqO"
      }
    },
    {
      "cell_type": "markdown",
      "source": [
        "##### 2. What is/are the insight(s) found from the chart?"
      ],
      "metadata": {
        "id": "eZrbJ2SmphqO"
      }
    },
    {
      "cell_type": "markdown",
      "source": [
        "No. of reviews got increament after May, 2018."
      ],
      "metadata": {
        "id": "mZtgC_hjphqO"
      }
    },
    {
      "cell_type": "markdown",
      "source": [
        "##### 3. Will the gained insights help creating a positive business impact? \n",
        "Are there any insights that lead to negative growth? Justify with specific reason."
      ],
      "metadata": {
        "id": "rFu4xreNphqO"
      }
    },
    {
      "cell_type": "markdown",
      "source": [
        "Yes, it will help."
      ],
      "metadata": {
        "id": "ey_0qi68phqO"
      }
    },
    {
      "cell_type": "markdown",
      "source": [
        "#### Chart - 9 Most Selling Cuisine"
      ],
      "metadata": {
        "id": "YJ55k-q6phqO"
      }
    },
    {
      "cell_type": "code",
      "source": [
        "data = cuis_df.sort_values('Number of Restaurants', ascending = False)[\n",
        "    'Number of Restaurants'].tolist()[:5]\n",
        "labels = cuis_df.sort_values('Number of Restaurants',ascending=False).Cuisine[:5]\n",
        "\n",
        "#define Seaborn color palette to use\n",
        "colors = sns.color_palette('Paired')[4:9]\n",
        "\n",
        "#create pie chart\n",
        "plt.pie(data, labels = labels, colors = colors, autopct='%.0f%%')\n",
        "plt.title('Top 5 Most Selling Cuisine', size =15, color= 'black')\n",
        "plt.show()"
      ],
      "metadata": {
        "id": "6hDxD-Vp_0aI"
      },
      "execution_count": null,
      "outputs": []
    },
    {
      "cell_type": "markdown",
      "source": [
        "##### 1. Why did you pick the specific chart?"
      ],
      "metadata": {
        "id": "gCFgpxoyphqP"
      }
    },
    {
      "cell_type": "markdown",
      "source": [
        "To check top 5 most selling cuisines using pie chart."
      ],
      "metadata": {
        "id": "TVxDimi2phqP"
      }
    },
    {
      "cell_type": "markdown",
      "source": [
        "##### 2. What is/are the insight(s) found from the chart?"
      ],
      "metadata": {
        "id": "OVtJsKN_phqQ"
      }
    },
    {
      "cell_type": "markdown",
      "source": [
        "North Indian food is in most demand followed by Chinese."
      ],
      "metadata": {
        "id": "ngGi97qjphqQ"
      }
    },
    {
      "cell_type": "markdown",
      "source": [
        "##### 3. Will the gained insights help creating a positive business impact? \n",
        "Are there any insights that lead to negative growth? Justify with specific reason."
      ],
      "metadata": {
        "id": "lssrdh5qphqQ"
      }
    },
    {
      "cell_type": "markdown",
      "source": [
        "Yes, it will help."
      ],
      "metadata": {
        "id": "tBpY5ekJphqQ"
      }
    },
    {
      "cell_type": "markdown",
      "source": [
        "#### Chart - 10 WordCloud of Cuisine"
      ],
      "metadata": {
        "id": "U2RJ9gkRphqQ"
      }
    },
    {
      "cell_type": "code",
      "source": [
        "#wordcloud for Cuisine\n",
        "# storind all cuisine in form of text\n",
        "plt.figure(figsize=(15,8))\n",
        "text = \" \".join(name for name in cuis_df.Cuisine )\n",
        "\n",
        "\n",
        "# Creating word_cloud with text as argument in .generate() method\n",
        "\n",
        "word_cloud = WordCloud(width = 2000, height = 2000,collocations = False,\n",
        "                       colormap='rainbow',background_color = 'black').generate(text)\n",
        "\n",
        "# Display the generated Word Cloud\n",
        "\n",
        "plt.imshow(word_cloud, interpolation='bilinear');\n",
        "\n",
        "plt.axis(\"off\");"
      ],
      "metadata": {
        "id": "GM7a4YP4phqQ"
      },
      "execution_count": null,
      "outputs": []
    },
    {
      "cell_type": "markdown",
      "source": [
        "##### 1. Why did you pick the specific chart?"
      ],
      "metadata": {
        "id": "1M8mcRywphqQ"
      }
    },
    {
      "cell_type": "markdown",
      "source": [
        "To analyze the most demanding cuisine with word cloud."
      ],
      "metadata": {
        "id": "8agQvks0phqQ"
      }
    },
    {
      "cell_type": "markdown",
      "source": [
        "##### 2. What is/are the insight(s) found from the chart?"
      ],
      "metadata": {
        "id": "tgIPom80phqQ"
      }
    },
    {
      "cell_type": "markdown",
      "source": [
        "From the above word cloud we can see most frequent keywords in bold."
      ],
      "metadata": {
        "id": "Qp13pnNzphqQ"
      }
    },
    {
      "cell_type": "markdown",
      "source": [
        "##### 3. Will the gained insights help creating a positive business impact? \n",
        "Are there any insights that lead to negative growth? Justify with specific reason."
      ],
      "metadata": {
        "id": "JMzcOPDDphqR"
      }
    },
    {
      "cell_type": "markdown",
      "source": [
        "Yes, it will help."
      ],
      "metadata": {
        "id": "R4Ka1PC2phqR"
      }
    },
    {
      "cell_type": "markdown",
      "source": [
        "#### Chart - 11 Correlation Heatmap"
      ],
      "metadata": {
        "id": "NC_X3p0fY2L0"
      }
    },
    {
      "cell_type": "code",
      "source": [
        "#merging both data frame\n",
        "meta1 = meta_df.rename(columns = {'Name':'Restaurant'})\n",
        "merged = meta1.merge(reviews_df, on = 'Restaurant')\n",
        "merged.shape"
      ],
      "metadata": {
        "id": "eHOg9zBXc3Na"
      },
      "execution_count": null,
      "outputs": []
    },
    {
      "cell_type": "code",
      "source": [
        "plt.figure(figsize = (12,12))\n",
        "sns.heatmap(merged.corr(), annot=True, cmap = 'coolwarm')\n",
        "\n",
        "plt.show()"
      ],
      "metadata": {
        "id": "xyC9zolEZNRQ"
      },
      "execution_count": null,
      "outputs": []
    },
    {
      "cell_type": "markdown",
      "source": [
        "##### 1. Why did you pick the specific chart?"
      ],
      "metadata": {
        "id": "UV0SzAkaZNRQ"
      }
    },
    {
      "cell_type": "markdown",
      "source": [
        "To check correlation between features."
      ],
      "metadata": {
        "id": "DVPuT8LYZNRQ"
      }
    },
    {
      "cell_type": "markdown",
      "source": [
        "##### 2. What is/are the insight(s) found from the chart?"
      ],
      "metadata": {
        "id": "YPEH6qLeZNRQ"
      }
    },
    {
      "cell_type": "markdown",
      "source": [
        "* Reviews is 47% correlated with followers\n",
        "* Followers and Reviews is also positively correlated with photos.\n",
        "* Year and Cost is 25% correlated which may be due to inflation."
      ],
      "metadata": {
        "id": "bfSqtnDqZNRR"
      }
    },
    {
      "cell_type": "markdown",
      "source": [
        "#### Chart - 12 - Pair Plot "
      ],
      "metadata": {
        "id": "q29F0dvdveiT"
      }
    },
    {
      "cell_type": "code",
      "source": [
        "# Pair Plot visualization code\n",
        "sns.pairplot(merged)"
      ],
      "metadata": {
        "id": "o58-TEIhveiU"
      },
      "execution_count": null,
      "outputs": []
    },
    {
      "cell_type": "markdown",
      "source": [
        "## ***5. Feature Engineering & Data Pre-processing***"
      ],
      "metadata": {
        "id": "yLjJCtPM0KBk"
      }
    },
    {
      "cell_type": "markdown",
      "source": [
        "### 1.Feature Creation"
      ],
      "metadata": {
        "id": "xiyOF9F70UgQ"
      }
    },
    {
      "cell_type": "code",
      "source": [
        "cuisine_df = meta_df[['Name','Cost','Cuisines']]"
      ],
      "metadata": {
        "id": "iRsAHk1K0fpS"
      },
      "execution_count": null,
      "outputs": []
    },
    {
      "cell_type": "code",
      "source": [
        "cuisine_df['Cuisines'] = cuisine_df['Cuisines'].apply(lambda x: x.lower())"
      ],
      "metadata": {
        "id": "lC0Lx5JL58xU"
      },
      "execution_count": null,
      "outputs": []
    },
    {
      "cell_type": "code",
      "source": [
        "cuisine_df.head()"
      ],
      "metadata": {
        "id": "ZOuFn_mD58t-"
      },
      "execution_count": null,
      "outputs": []
    },
    {
      "cell_type": "code",
      "source": [
        "# function for spliting the cuisine and storing in list \n",
        "def cuisine_list(cuisines):\n",
        "   all_cuisines = list(set(cuisines.split(', ')))\n",
        "   return all_cuisines"
      ],
      "metadata": {
        "id": "NZTZO5pc58qg"
      },
      "execution_count": null,
      "outputs": []
    },
    {
      "cell_type": "code",
      "source": [
        "# Spliting the cuisine and storing in list\n",
        "cuisine_df['cuisine']=cuisine_df['Cuisines'].apply(lambda x : cuisine_list(x))"
      ],
      "metadata": {
        "id": "doPM72Py58ng"
      },
      "execution_count": null,
      "outputs": []
    },
    {
      "cell_type": "code",
      "source": [
        "cuisine_df.head()"
      ],
      "metadata": {
        "id": "DvB08Yd56OCA"
      },
      "execution_count": null,
      "outputs": []
    },
    {
      "cell_type": "code",
      "source": [
        "# Transform each element of a list-like to a row \n",
        "cuisine_df=cuisine_df.explode('cuisine')\n",
        "cuisine_df"
      ],
      "metadata": {
        "id": "ZlyMl_aF6N-p"
      },
      "execution_count": null,
      "outputs": []
    },
    {
      "cell_type": "code",
      "source": [
        "# checking unique values of cuisine\n",
        "set(cuisine_df[\"cuisine\"])"
      ],
      "metadata": {
        "id": "LDcgmjON6N8K"
      },
      "execution_count": null,
      "outputs": []
    },
    {
      "cell_type": "code",
      "source": [
        "cuisine_df[\"cuisine\"].nunique()"
      ],
      "metadata": {
        "id": "UWxHnzJ56N5o"
      },
      "execution_count": null,
      "outputs": []
    },
    {
      "cell_type": "markdown",
      "source": [
        "Brinning all the cuisines into their respective supersets spicy food, Healthy food, Fast Food,Dessert"
      ],
      "metadata": {
        "id": "bsLyIm3O7Q7W"
      }
    },
    {
      "cell_type": "code",
      "source": [
        "# Brinning all the cuisines into their respective supersets spicy food, Healthy food, Fast Food,Dessert\n",
        "l=[]\n",
        "for i in cuisine_df['cuisine']:   \n",
        "  if (i=='hyderabadi')| (i=='asian')|(i=='kebab')|(i=='north indian')|(i=='modern indian')|(i=='continental')|(i=='bbq')|(i=='biryani')|(i=='indonesian')|(i=='mughlai')|(i=='malaysian'):\n",
        "    l.append('spicy food')\n",
        "  if (i=='andhra')|(i=='north eastern')|(i=='lebanese')|(i=='salad')|(i=='south indian')|(i=='italian')|(i=='european')|(i=='mediterranean')|(i=='american')|(i=='thai')|(i=='arabian')|(i=='seafood')|(i=='mexican')|(i=='healthy food')|(i=='goan')|(i=='spanish'):\n",
        "    l.append('Healthy food')\n",
        "  if (i=='momos')|(i=='street food')|(i=='cafe')|(i=='chinese')|(i=='japanese')|(i=='pizza')|(i=='wraps')|(i=='burger')|(i=='fast food')|(i=='finger food')|(i=='sushi'):\n",
        "    l.append('fast food')\n",
        "  if (i=='bakery')|(i=='beverages')|(i=='desserts')|(i=='juices')|(i=='ice cream')|(i=='mithai'):\n",
        "    l.append('Dessert')"
      ],
      "metadata": {
        "id": "pZexIvaG7Suy"
      },
      "execution_count": null,
      "outputs": []
    },
    {
      "cell_type": "code",
      "source": [
        "# updating the data frame with cuisines superset\n",
        "superset_cuisine=pd.DataFrame(l)\n",
        "superset_cuisine.columns=['cuisine']\n",
        "superset_cuisine"
      ],
      "metadata": {
        "id": "6_WOHhH87VNh"
      },
      "execution_count": null,
      "outputs": []
    },
    {
      "cell_type": "code",
      "source": [
        "superset_cuisine.value_counts()"
      ],
      "metadata": {
        "id": "Qpk2K6JN7VKF"
      },
      "execution_count": null,
      "outputs": []
    },
    {
      "cell_type": "code",
      "source": [
        "# droping the cuisine feature and creating new data frame with cuisine superset\n",
        "cuisine_df.reset_index(inplace=True)\n",
        "cuisine_df.drop(['cuisine'],axis=1,inplace=True)\n",
        "dataset=pd.concat([cuisine_df,superset_cuisine],axis=1)"
      ],
      "metadata": {
        "id": "895pg-1L7VHu"
      },
      "execution_count": null,
      "outputs": []
    },
    {
      "cell_type": "code",
      "source": [
        "dataset.head()"
      ],
      "metadata": {
        "id": "1gLuLIkV7VFI"
      },
      "execution_count": null,
      "outputs": []
    },
    {
      "cell_type": "code",
      "source": [
        "dataset.drop(['index'],axis=1,inplace=True)"
      ],
      "metadata": {
        "id": "6L7gbYUW7VAR"
      },
      "execution_count": null,
      "outputs": []
    },
    {
      "cell_type": "markdown",
      "source": [
        "###  2. Categorical Encoding"
      ],
      "metadata": {
        "id": "89xtkJwZ18nB"
      }
    },
    {
      "cell_type": "code",
      "source": [
        "# generate binary values using get_dummies\n",
        "dum_df = pd.get_dummies(dataset, columns=[\"cuisine\"],prefix=None)"
      ],
      "metadata": {
        "id": "21JmIYMG2hEo"
      },
      "execution_count": null,
      "outputs": []
    },
    {
      "cell_type": "code",
      "source": [
        "cuisine= ['cuisine_Dessert',\n",
        "        'cuisine_Healthy food',\n",
        "        'cuisine_spicy food',\n",
        "         'cuisine_fast food']"
      ],
      "metadata": {
        "id": "EIYTLV4l7_pr"
      },
      "execution_count": null,
      "outputs": []
    },
    {
      "cell_type": "code",
      "source": [
        "cluster_df=dum_df.groupby(['Name','Cost','Cuisines'])[cuisine].sum().reset_index()"
      ],
      "metadata": {
        "id": "G1RPXux17_mC"
      },
      "execution_count": null,
      "outputs": []
    },
    {
      "cell_type": "code",
      "source": [
        "cluster_data=cluster_df.drop(['Name','Cuisines'],axis=1)"
      ],
      "metadata": {
        "id": "ja56mYog7_jl"
      },
      "execution_count": null,
      "outputs": []
    },
    {
      "cell_type": "code",
      "source": [
        "cluster_data.head()"
      ],
      "metadata": {
        "id": "-Gyk_gEG7_b6"
      },
      "execution_count": null,
      "outputs": []
    },
    {
      "cell_type": "markdown",
      "source": [
        "## Standardizing each of the features in the clusters"
      ],
      "metadata": {
        "id": "I17JNOZv-ccQ"
      }
    },
    {
      "cell_type": "code",
      "source": [
        "# Scaling the data\n",
        "sc = StandardScaler()\n",
        "cluster_data_sc = sc.fit_transform(cluster_data)\n",
        "cluster_data_sc"
      ],
      "metadata": {
        "id": "AScwf31t7_Yh"
      },
      "execution_count": null,
      "outputs": []
    },
    {
      "cell_type": "markdown",
      "source": [
        "## KMEANS"
      ],
      "metadata": {
        "id": "jKqShZCh-l_o"
      }
    },
    {
      "cell_type": "code",
      "source": [
        "# finding best cluster bu error rate\n",
        "sse = []\n",
        "k_rng = range(1,10)\n",
        "for k in k_rng:\n",
        "    km = KMeans(n_clusters=k)\n",
        "    km.fit(cluster_data_sc)\n",
        "    sse.append(km.inertia_)"
      ],
      "metadata": {
        "id": "diazHqTm7_WE"
      },
      "execution_count": null,
      "outputs": []
    },
    {
      "cell_type": "markdown",
      "source": [
        " ## Using Elbow Analysis determining optimal number of clusters"
      ],
      "metadata": {
        "id": "a0-miQR6-zEd"
      }
    },
    {
      "cell_type": "code",
      "source": [
        "# finding best clusters by error rate\n",
        "cluster_range = range(1,15)\n",
        "cluster_errors = []\n",
        "\n",
        "for num_clusters in cluster_range:\n",
        "    clusters = KMeans( num_clusters )\n",
        "    clusters.fit_transform(cluster_data_sc)\n",
        "    cluster_errors.append( clusters.inertia_ )"
      ],
      "metadata": {
        "id": "m5c4orYl-wpH"
      },
      "execution_count": null,
      "outputs": []
    },
    {
      "cell_type": "code",
      "source": [
        "clusters_df = pd.DataFrame( { \"num_clusters\":cluster_range, \"cluster_errors\": cluster_errors } )"
      ],
      "metadata": {
        "id": "sdlonGiM-7U7"
      },
      "execution_count": null,
      "outputs": []
    },
    {
      "cell_type": "code",
      "source": [
        "plt.figure(figsize=(12,6))\n",
        "sns.pointplot(x = clusters_df['num_clusters'], y = clusters_df['cluster_errors'])\n",
        "plt.title('Sum of squares elbow plot')"
      ],
      "metadata": {
        "id": "igz9NzaT-7J4"
      },
      "execution_count": null,
      "outputs": []
    },
    {
      "cell_type": "markdown",
      "source": [
        "##Finding optimum no. of cluster by silhouette score"
      ],
      "metadata": {
        "id": "J-D-kFc6_Qob"
      }
    },
    {
      "cell_type": "code",
      "source": [
        "#finding best cluster by silhouette score\n",
        "k_range = range(2, 9)\n",
        "scores = []\n",
        "for k in k_range:\n",
        "    km = KMeans(n_clusters=k, random_state=1)\n",
        "    km.fit(cluster_data_sc)\n",
        "    scores.append(metrics.silhouette_score(cluster_data_sc, km.labels_))"
      ],
      "metadata": {
        "id": "ey3dP6sP_Nob"
      },
      "execution_count": null,
      "outputs": []
    },
    {
      "cell_type": "code",
      "source": [
        "# plot the results\n",
        "plt.figure(figsize=(12,6))\n",
        "plt.plot(k_range, scores)\n",
        "plt.xlabel('Number of clusters')\n",
        "plt.ylabel('Silhouette Coefficient')\n",
        "plt.title('Silhouette score')"
      ],
      "metadata": {
        "id": "9NrBB1PW_UxW"
      },
      "execution_count": null,
      "outputs": []
    },
    {
      "cell_type": "code",
      "source": [
        "X=cluster_data_sc"
      ],
      "metadata": {
        "id": "1FkBUM48_Utr"
      },
      "execution_count": null,
      "outputs": []
    },
    {
      "cell_type": "code",
      "source": [
        "range_n_clusters = [2,3,4,5,6,7,8,9,10,11,12,13,14,15]\n",
        "\n",
        "for n_clusters in range_n_clusters:\n",
        "    # Create a subplot with 1 row and 2 columns\n",
        "    fig, (ax1, ax2) = plt.subplots(1, 2)\n",
        "    fig.set_size_inches(18, 7)\n",
        "\n",
        "    # The 1st subplot is the silhouette plot\n",
        "    # The silhouette coefficient can range from -1, 1 but in this example all\n",
        "    # lie within [-0.1, 1]\n",
        "    ax1.set_xlim([-0.1, 1])\n",
        "    # The (n_clusters+1)*10 is for inserting blank space between silhouette\n",
        "    # plots of individual clusters, to demarcate them clearly.\n",
        "    ax1.set_ylim([0, len(X) + (n_clusters + 1) * 10])\n",
        "\n",
        "    # Initialize the clusterer with n_clusters value and a random generator\n",
        "    # seed of 10 for reproducibility.\n",
        "    clusterer = KMeans(n_clusters=n_clusters, random_state=10)\n",
        "    cluster_labels = clusterer.fit_predict(X)\n",
        "\n",
        "    # The silhouette_score gives the average value for all the samples.\n",
        "    # This gives a perspective into the density and separation of the formed\n",
        "    # clusters\n",
        "    silhouette_avg = silhouette_score(X, cluster_labels)\n",
        "    print(\"For n_clusters =\", n_clusters,\n",
        "          \"The average silhouette_score is :\", silhouette_avg)\n",
        "\n",
        "    # Compute the silhouette scores for each sample\n",
        "    sample_silhouette_values = silhouette_samples(X, cluster_labels)\n",
        "\n",
        "    y_lower = 10\n",
        "    for i in range(n_clusters):\n",
        "        # Aggregate the silhouette scores for samples belonging to\n",
        "        # cluster i, and sort them\n",
        "        ith_cluster_silhouette_values = \\\n",
        "            sample_silhouette_values[cluster_labels == i]\n",
        "\n",
        "        ith_cluster_silhouette_values.sort()\n",
        "\n",
        "        size_cluster_i = ith_cluster_silhouette_values.shape[0]\n",
        "        y_upper = y_lower + size_cluster_i\n",
        "\n",
        "        color = cm.nipy_spectral(float(i) / n_clusters)\n",
        "        ax1.fill_betweenx(np.arange(y_lower, y_upper),\n",
        "                          0, ith_cluster_silhouette_values,\n",
        "                          facecolor=color, edgecolor=color, alpha=0.7)\n",
        "\n",
        "        # Label the silhouette plots with their cluster numbers at the middle\n",
        "        ax1.text(-0.05, y_lower + 0.5 * size_cluster_i, str(i))\n",
        "\n",
        "        # Compute the new y_lower for next plot\n",
        "        y_lower = y_upper + 10  # 10 for the 0 samples\n",
        "\n",
        "    ax1.set_title(\"The silhouette plot for the various clusters.\")\n",
        "    ax1.set_xlabel(\"The silhouette coefficient values\")\n",
        "    ax1.set_ylabel(\"Cluster label\")\n",
        "\n",
        "    # The vertical line for average silhouette score of all the values\n",
        "    ax1.axvline(x=silhouette_avg, color=\"red\", linestyle=\"--\")\n",
        "\n",
        "    ax1.set_yticks([])  # Clear the yaxis labels / ticks\n",
        "    ax1.set_xticks([-0.1, 0, 0.2, 0.4, 0.6, 0.8, 1])\n",
        "\n",
        "    # 2nd Plot showing the actual clusters formed\n",
        "    colors = cm.nipy_spectral(cluster_labels.astype(float) /n_clusters)\n",
        "    ax2.scatter(X[:, 0], X[:, 1], marker='.', s=30, lw=0, alpha=0.7,\n",
        "                c=colors, edgecolor='k')\n",
        "\n",
        "    # Labeling the clusters\n",
        "    centers = clusterer.cluster_centers_\n",
        "    # Draw white circles at cluster centers\n",
        "    ax2.scatter(centers[:, 0], centers[:, 1], marker='o',\n",
        "                c=\"white\", alpha=1, s=200, edgecolor='k')\n",
        "\n",
        "    for i, c in enumerate(centers):\n",
        "        ax2.scatter(c[0], c[1], marker='$%d$' % i, alpha=1,\n",
        "                    s=50, edgecolor='k')\n",
        "\n",
        "    ax2.set_title(\"The visualization of the clustered data.\")\n",
        "    ax2.set_xlabel(\"Feature space for the 1st feature\")\n",
        "    ax2.set_ylabel(\"Feature space for the 2nd feature\")\n",
        "    plt.suptitle((\"Silhouette analysis for KMeans clustering on sample data \"\n",
        "                  \"with n_clusters = %d\" % n_clusters),\n",
        "                 fontsize=14, fontweight='bold')\n",
        "\n",
        "plt.show()"
      ],
      "metadata": {
        "id": "wU-AeEGn_Uof"
      },
      "execution_count": null,
      "outputs": []
    },
    {
      "cell_type": "markdown",
      "source": [
        "From silhouttee coefficients we are getting 3 as our optimum number of clusters"
      ],
      "metadata": {
        "id": "2CEGqChKAZzX"
      }
    },
    {
      "cell_type": "code",
      "source": [
        "# Finding the predicted values by kmeans\n",
        "km = KMeans(n_clusters= 3, n_init= 1000, random_state = 1 )\n",
        "y_predicted = km.fit_predict(cluster_data_sc)"
      ],
      "metadata": {
        "id": "X6xal7_T_Ul1"
      },
      "execution_count": null,
      "outputs": []
    },
    {
      "cell_type": "code",
      "source": [
        "pd.Series(km.labels_).value_counts()"
      ],
      "metadata": {
        "id": "jWwqjsDQAd3N"
      },
      "execution_count": null,
      "outputs": []
    },
    {
      "cell_type": "code",
      "source": [
        "cluster_df['cluster']=y_predicted"
      ],
      "metadata": {
        "id": "j-XAtztmAjU5"
      },
      "execution_count": null,
      "outputs": []
    },
    {
      "cell_type": "code",
      "source": [
        "cluster_df"
      ],
      "metadata": {
        "id": "Jbr6R1d3AqkA"
      },
      "execution_count": null,
      "outputs": []
    },
    {
      "cell_type": "code",
      "source": [
        "# ploting average cost of each cluster\n",
        "pd.DataFrame(cluster_df.groupby('cluster')['Cost'].mean()).plot(kind=\"bar\")\n",
        "plt.title('average cost of each cluster')\n",
        "plt.show()"
      ],
      "metadata": {
        "id": "ejO9gUfnAuCW"
      },
      "execution_count": null,
      "outputs": []
    },
    {
      "cell_type": "markdown",
      "source": [
        "## Hierarchical Clustering"
      ],
      "metadata": {
        "id": "veV15A5_A4QU"
      }
    },
    {
      "cell_type": "code",
      "source": [
        "#Dendogram Plotting\n",
        "plt.figure(figsize= (15,7))\n",
        "dendrogram = sch.dendrogram(sch.linkage(cluster_data_sc, method = 'ward'))\n",
        "\n",
        "plt.title('Dendrogram')\n",
        "plt.xlabel('Customers')\n",
        "plt.ylabel('Euclidean Distances')\n",
        "\n",
        "plt.show() # find largest vertical distance we can make without crossing any other horizontal line"
      ],
      "metadata": {
        "id": "v2k_63gwAwBP"
      },
      "execution_count": null,
      "outputs": []
    },
    {
      "cell_type": "code",
      "source": [
        "#Agglomerative Clustering with no. of clusters = 3\n",
        "hc = AgglomerativeClustering(n_clusters = 3)\n",
        "y_hc = hc.fit_predict(cluster_data_sc)"
      ],
      "metadata": {
        "id": "Fjkq3CTAAv95"
      },
      "execution_count": null,
      "outputs": []
    },
    {
      "cell_type": "code",
      "source": [
        "cluster_df['cluster_hr']=y_hc"
      ],
      "metadata": {
        "id": "EayWSPMoAvwD"
      },
      "execution_count": null,
      "outputs": []
    },
    {
      "cell_type": "code",
      "source": [
        "clustering_result = cluster_df.loc[:,['Name','Cost','Cuisines','cluster','cluster_hr']]\n",
        "clustering_result.head()"
      ],
      "metadata": {
        "id": "jpdE3vOTAvsq"
      },
      "execution_count": null,
      "outputs": []
    },
    {
      "cell_type": "code",
      "source": [
        "# ploting average cost of each cluster\n",
        "pd.DataFrame(cluster_df.groupby('cluster_hr')['Cost'].mean()).plot(kind=\"bar\")\n",
        "plt.title('average cost of each cluster')\n",
        "plt.show()"
      ],
      "metadata": {
        "id": "ya4Dj6FWAvqa"
      },
      "execution_count": null,
      "outputs": []
    },
    {
      "cell_type": "markdown",
      "source": [
        "### 3. Textual Data Preprocessing \n",
        "(It's mandatory for textual dataset i.e., NLP, Sentiment Analysis, Text Clustering etc.)"
      ],
      "metadata": {
        "id": "Iwf50b-R2tYG"
      }
    },
    {
      "cell_type": "code",
      "source": [
        "review_df = reviews_df.reset_index(drop= True)[['Reviewer','Restaurant','Rating','Review']]"
      ],
      "metadata": {
        "id": "PTouz10C3oNN"
      },
      "execution_count": null,
      "outputs": []
    },
    {
      "cell_type": "code",
      "source": [
        "#Create a function to get the subjectivity and polarity\n",
        "def subjectivity(text): \n",
        "    return TextBlob(text).sentiment.subjectivity\n",
        "\n",
        "def polarity(text): \n",
        "    return TextBlob(text).sentiment.polarity"
      ],
      "metadata": {
        "id": "sTjqSUbXvSul"
      },
      "execution_count": null,
      "outputs": []
    },
    {
      "cell_type": "code",
      "source": [
        "#Create two new columns\n",
        "review_df['Subjectivity'] = review_df['Review'].apply(subjectivity)\n",
        "review_df['Polarity'] = review_df['Review'].apply(polarity)"
      ],
      "metadata": {
        "id": "LOaRk9Yewzd3"
      },
      "execution_count": null,
      "outputs": []
    },
    {
      "cell_type": "code",
      "source": [
        "#Create a function to compute the negative, neutral and positive analysis\n",
        "def getAnalysis(score):\n",
        "    if score <0:\n",
        "        return 'Negative'\n",
        "    elif score == 0:\n",
        "        return 'Neutral'\n",
        "    else:\n",
        "        return 'Positive'"
      ],
      "metadata": {
        "id": "arO94zc_wrzd"
      },
      "execution_count": null,
      "outputs": []
    },
    {
      "cell_type": "code",
      "source": [
        "# Applying getAnalysis to review_df['Analysis']\n",
        "review_df['Analysis'] = review_df['Polarity'].apply(getAnalysis)"
      ],
      "metadata": {
        "id": "4my2L7PUw5WU"
      },
      "execution_count": null,
      "outputs": []
    },
    {
      "cell_type": "code",
      "source": [
        "# plot the polarity and subjectivity\n",
        "fig = px.scatter(review_df, \n",
        "                 x='Polarity', \n",
        "                 y='Subjectivity', \n",
        "                 color = 'Analysis',\n",
        "                 size='Subjectivity')\n",
        "#add a vertical line at x=0 for Netural Reviews\n",
        "fig.update_layout(title='Sentiment Analysis',\n",
        "                  shapes=[dict(type= 'line',\n",
        "                               yref= 'paper', y0= 0, y1= 1, \n",
        "                               xref= 'x', x0= 0, x1= 0)])\n",
        "fig.show()"
      ],
      "metadata": {
        "id": "wlYrFBosw-j0"
      },
      "execution_count": null,
      "outputs": []
    },
    {
      "cell_type": "code",
      "source": [
        "# Converting Analysis into numeric form Postive=0 and Negative =1\n",
        "def sentiment(analysis):\n",
        "  if analysis == 'Positive':\n",
        "    return 0\n",
        "  elif analysis == 'Neutral' :\n",
        "    return 0\n",
        "    # positive sentiment\n",
        "  else:\n",
        "    return 1\n",
        "    # neagative sentiment "
      ],
      "metadata": {
        "id": "IQsIeObNxTzj"
      },
      "execution_count": null,
      "outputs": []
    },
    {
      "cell_type": "code",
      "source": [
        "review_df['Analysis']=review_df['Analysis'].apply(lambda x:sentiment(x))"
      ],
      "metadata": {
        "id": "Br0DYvJexVvd"
      },
      "execution_count": null,
      "outputs": []
    },
    {
      "cell_type": "code",
      "source": [],
      "metadata": {
        "id": "BG-j3hz7xdOe"
      },
      "execution_count": null,
      "outputs": []
    },
    {
      "cell_type": "markdown",
      "source": [
        "#### 1. Expand Contraction"
      ],
      "metadata": {
        "id": "GMQiZwjn3iu7"
      }
    },
    {
      "cell_type": "code",
      "source": [
        "review_df.head()"
      ],
      "metadata": {
        "id": "60hbzPdYlcVj"
      },
      "execution_count": null,
      "outputs": []
    },
    {
      "cell_type": "code",
      "source": [
        "# Expand Contraction\n",
        "# applying fuction for contracting text\n",
        "review_df['Review']=review_df['Review'].apply(lambda x:contractions.fix(x))"
      ],
      "metadata": {
        "id": "3VM9RYzfln3T"
      },
      "execution_count": null,
      "outputs": []
    },
    {
      "cell_type": "markdown",
      "source": [
        "#### 2. Lower Casing"
      ],
      "metadata": {
        "id": "WVIkgGqN3qsr"
      }
    },
    {
      "cell_type": "code",
      "source": [
        "# Lower Casing\n",
        "review_df['Review'] = review_df['Review'].str.lower()"
      ],
      "metadata": {
        "id": "88JnJ1jN3w7j"
      },
      "execution_count": null,
      "outputs": []
    },
    {
      "cell_type": "code",
      "source": [
        "review_df.head()"
      ],
      "metadata": {
        "id": "pQYeQYDenIfa"
      },
      "execution_count": null,
      "outputs": []
    },
    {
      "cell_type": "markdown",
      "source": [
        "#### 3. Removing Punctuations"
      ],
      "metadata": {
        "id": "XkPnILGE3zoT"
      }
    },
    {
      "cell_type": "code",
      "source": [
        "# Remove Punctuations\n",
        "def remove_punctuation(text):\n",
        "  '''a function for removing punctuation'''\n",
        "\n",
        "  # replacing the punctuations with no space,\n",
        "  # which in effect deletes the punctuation marks\n",
        "  translator = str.maketrans('', '', string.punctuation)\n",
        "  # return the text stripped of punctuation marks\n",
        "  return text.translate(translator)"
      ],
      "metadata": {
        "id": "vqbBqNaA33c0"
      },
      "execution_count": null,
      "outputs": []
    },
    {
      "cell_type": "code",
      "source": [
        "#remove punctuation using function created\n",
        "review_df['Review'] = review_df['Review'].apply(remove_punctuation)\n",
        "review_df.sample(5)"
      ],
      "metadata": {
        "id": "PPVC6axWnZkE"
      },
      "execution_count": null,
      "outputs": []
    },
    {
      "cell_type": "markdown",
      "source": [
        "#### 4. Removing URLs & Removing words and digits contain digits."
      ],
      "metadata": {
        "id": "Hlsf0x5436Go"
      }
    },
    {
      "cell_type": "code",
      "source": [
        "# Remove links\n",
        "review_df[\"Review\"] = review_df[\"Review\"].apply(lambda x: re.sub(r\"http\\S+\", \"\", x))\n",
        "\n",
        "# Remove digits\n",
        "review_df[\"Review\"] = review_df[\"Review\"].apply(lambda x: re.sub(r\"\\d+\", \"\", x))"
      ],
      "metadata": {
        "id": "2sxKgKxu4Ip3"
      },
      "execution_count": null,
      "outputs": []
    },
    {
      "cell_type": "code",
      "source": [
        "review_df['Review']"
      ],
      "metadata": {
        "id": "ztaXrkSfrJBF"
      },
      "execution_count": null,
      "outputs": []
    },
    {
      "cell_type": "markdown",
      "source": [
        "#### 5. Removing Stopwords & Removing White spaces"
      ],
      "metadata": {
        "id": "mT9DMSJo4nBL"
      }
    },
    {
      "cell_type": "code",
      "source": [
        "# Remove Stopwords\n",
        "\n",
        "sw = stopwords.words('english')"
      ],
      "metadata": {
        "id": "T2LSJh154s8W"
      },
      "execution_count": null,
      "outputs": []
    },
    {
      "cell_type": "code",
      "source": [
        "#function to remove stopwords\n",
        "def delete_stopwords(aaa):\n",
        "  '''a function for removing the stopword'''\n",
        "  # removing the stop words and lowercasing the selected words\n",
        "  aaa = [word.lower() for word in aaa.split() if word.lower() not in sw]\n",
        "  # joining the list of words with space separator\n",
        "  return \" \".join(aaa)"
      ],
      "metadata": {
        "id": "9h55yqidp6ud"
      },
      "execution_count": null,
      "outputs": []
    },
    {
      "cell_type": "code",
      "source": [
        "#calling function to remove stopwords\n",
        "review_df['Review'] = review_df['Review'].apply(delete_stopwords)"
      ],
      "metadata": {
        "id": "5F-P1kaD3DMF"
      },
      "execution_count": null,
      "outputs": []
    },
    {
      "cell_type": "code",
      "source": [
        "review_df['Review']"
      ],
      "metadata": {
        "id": "M7iSbzr0qxsu"
      },
      "execution_count": null,
      "outputs": []
    },
    {
      "cell_type": "code",
      "source": [
        "# Remove White spaces\n",
        "review_df['Review'] =review_df['Review'].apply(lambda x: \" \".join(x.split()))"
      ],
      "metadata": {
        "id": "EgLJGffy4vm0"
      },
      "execution_count": null,
      "outputs": []
    },
    {
      "cell_type": "code",
      "source": [
        "review = review_df['Review']"
      ],
      "metadata": {
        "id": "ko7yc6PWscDZ"
      },
      "execution_count": null,
      "outputs": []
    },
    {
      "cell_type": "markdown",
      "source": [
        "#### 6. Text Normalization"
      ],
      "metadata": {
        "id": "9ExmJH0g5HBk"
      }
    },
    {
      "cell_type": "code",
      "source": [
        "nlp = spacy.load('en_core_web_sm')\n",
        "\n",
        "def lemmatization_(text):\n",
        "  '''converting to root words\n",
        "  '''\n",
        "  for index,x in enumerate(text):\n",
        "    doc = nlp(x)  \n",
        "    l=list()\n",
        "    for word in doc:\n",
        "        l.append(word.lemma_)\n",
        "    text[index]=' '.join(l)\n",
        "\n",
        "  return text"
      ],
      "metadata": {
        "id": "zXSwSLtr4jTY"
      },
      "execution_count": null,
      "outputs": []
    },
    {
      "cell_type": "code",
      "source": [
        "# Lemmatize the 'Review' column\n",
        "review_df['Review'] = lemmatization_(review)"
      ],
      "metadata": {
        "id": "C21iFPb63LXk"
      },
      "execution_count": null,
      "outputs": []
    },
    {
      "cell_type": "code",
      "source": [
        "review_df['Review']"
      ],
      "metadata": {
        "id": "kCYc3nGX3OzK"
      },
      "execution_count": null,
      "outputs": []
    },
    {
      "cell_type": "markdown",
      "source": [
        "##### Which text normalization technique have you used and why?"
      ],
      "metadata": {
        "id": "cJNqERVU536h"
      }
    },
    {
      "cell_type": "markdown",
      "source": [
        "I have used Lemmatization as a text normalization technique.\n",
        "\n",
        "Lemmatization is the process of reducing words to their base or root form, similar to stemming. However, lemmatization uses a dictionary-based approach and considers the context of the word in order to determine its base form, while stemming uses simple heuristics and does not consider the context of the word. Lemmatization is a more accurate way of finding the root form of a word as it takes into account the context of the word as well as its grammatical structure."
      ],
      "metadata": {
        "id": "Z9jKVxE06BC1"
      }
    },
    {
      "cell_type": "markdown",
      "source": [
        "#### 7. Text Vectorization"
      ],
      "metadata": {
        "id": "T0VqWOYE6DLQ"
      }
    },
    {
      "cell_type": "code",
      "source": [
        "sentiment_df = review_df[['Review','Rating','Analysis']]  \n",
        "sentiment_df.head()"
      ],
      "metadata": {
        "id": "8aUTW_c-v0S7"
      },
      "execution_count": null,
      "outputs": []
    },
    {
      "cell_type": "code",
      "source": [
        "X = sentiment_df['Review']\n",
        "y = sentiment_df['Analysis']"
      ],
      "metadata": {
        "id": "Aw_N418LvSov"
      },
      "execution_count": null,
      "outputs": []
    },
    {
      "cell_type": "code",
      "source": [
        "#Train Test Split\n",
        "X_train,X_test,y_train,y_test = train_test_split(X,y,test_size=0.25,stratify=sentiment_df['Analysis'])"
      ],
      "metadata": {
        "id": "85Z44HcMvSlz"
      },
      "execution_count": null,
      "outputs": []
    },
    {
      "cell_type": "code",
      "source": [
        "# creating tokens for text data\n",
        "from sklearn.feature_extraction.text import  TfidfVectorizer\n",
        "vectorizer = TfidfVectorizer()\n",
        "X_train= vectorizer.fit_transform(X_train)\n",
        "X_test=vectorizer.transform(X_test)"
      ],
      "metadata": {
        "id": "LzKLOfJpvSjp"
      },
      "execution_count": null,
      "outputs": []
    },
    {
      "cell_type": "markdown",
      "source": [
        "## ***7. ML Model Implementation***"
      ],
      "metadata": {
        "id": "VfCC591jGiD4"
      }
    },
    {
      "cell_type": "markdown",
      "source": [
        "### ML Model - 1"
      ],
      "metadata": {
        "id": "OB4l2ZhMeS1U"
      }
    },
    {
      "cell_type": "code",
      "source": [
        "model = LogisticRegression()\n",
        "\n",
        "#training the model\n",
        "model.fit(X_train,y_train)\n",
        "\n",
        "#predicting the values of y from x via model\n",
        "y_pred_test = model.predict(X_test)\n",
        "y_pred_train = model.predict(X_train)"
      ],
      "metadata": {
        "id": "7ebyywQieS1U"
      },
      "execution_count": null,
      "outputs": []
    },
    {
      "cell_type": "code",
      "source": [
        "# Creating function to find eveluation matrics\n",
        "model_eveluation_metrices =[]\n",
        "def model_details(y_train, y_test, y_pred_train, y_pred_test, Model_name):\n",
        "    working_model ={}\n",
        "    working_model['name'] = Model_name\n",
        "\n",
        "    # Accuracy\n",
        "    print('-'*50)\n",
        "    train_accuracy = accuracy_score(y_train,y_pred_train)\n",
        "    print('Train accuracy is:',train_accuracy)\n",
        "    test_accuracy = accuracy_score(y_test,y_pred_test)\n",
        "    print('Test accuracy is:',test_accuracy)\n",
        "    print('-'*50)\n",
        "    confusion_mat = confusion_matrix(y_pred_test, y_test)\n",
        "    print(\"The confusion matrix on the test data is :\")\n",
        "    print(confusion_mat)\n",
        "    print('-'*50)\n",
        "    classification_rep= classification_report(y_pred_test, y_test)\n",
        "\n",
        "    print(\"The classification report on the train data is :\")\n",
        "    print(classification_rep)\n",
        "\n",
        "    working_model[\"Train_accuracy_score\"] = accuracy_score(y_train,y_pred_train)\n",
        "    working_model[\"Test_accuracy_score\"] = accuracy_score(y_test, y_pred_test)\n",
        "    working_model[\"Train_f1_score\"] = f1_score(y_train, y_pred_train)\n",
        "    working_model[\"Test_f1_score\"] = f1_score(y_test, y_pred_test)\n",
        "    # working_model[\"Train_recall_score\"] = recall_score(y_train,y_pred_train)\n",
        "    # working_model[\"Test_recall_score\"] = recall_score(y_test, y_pred_test)\n",
        "    working_model[\"Train_roc_auc_score\"] = roc_auc_score(y_train,y_pred_train)\n",
        "    working_model[\"Test_roc_auc_score\"] = roc_auc_score(y_test, y_pred_test)\n",
        "    model_eveluation_metrices.append(working_model)\n"
      ],
      "metadata": {
        "id": "3gnTDE8e6x4q"
      },
      "execution_count": null,
      "outputs": []
    },
    {
      "cell_type": "code",
      "source": [
        "model_details(y_train, y_test, y_pred_train, y_pred_test, 'LogisticRegression')"
      ],
      "metadata": {
        "id": "FbjF3zzt65MB"
      },
      "execution_count": null,
      "outputs": []
    },
    {
      "cell_type": "markdown",
      "source": [
        "### ML Model - 2"
      ],
      "metadata": {
        "id": "dJ2tPlVmpsJ0"
      }
    },
    {
      "cell_type": "code",
      "source": [
        "rf= RandomForestClassifier()"
      ],
      "metadata": {
        "id": "yEl-hgQWpsJ1"
      },
      "execution_count": null,
      "outputs": []
    },
    {
      "cell_type": "code",
      "source": [
        "grid_values_rf = {'n_estimators': [100,150],'max_depth': [10,15],'criterion': ['entropy']}\n",
        "rfc = GridSearchCV(estimator=rf,param_grid = grid_values_rf, scoring='recall',cv=5,verbose=5,n_jobs=-1)"
      ],
      "metadata": {
        "id": "prZ9C7a27aeQ"
      },
      "execution_count": null,
      "outputs": []
    },
    {
      "cell_type": "code",
      "source": [
        "rfc.fit(X_train, y_train)"
      ],
      "metadata": {
        "id": "L1ZIAzD27aaz"
      },
      "execution_count": null,
      "outputs": []
    },
    {
      "cell_type": "code",
      "source": [
        "random_y_pred_train=rfc.predict(X_train)\n",
        "random_y_pred_test=rfc.predict(X_test)"
      ],
      "metadata": {
        "id": "qPFC3Lct7h7a"
      },
      "execution_count": null,
      "outputs": []
    },
    {
      "cell_type": "code",
      "source": [
        "model_details(y_train, y_test, random_y_pred_train, random_y_pred_test, 'RandomForestClassifier')"
      ],
      "metadata": {
        "id": "kgoYM6lX7h3z"
      },
      "execution_count": null,
      "outputs": []
    },
    {
      "cell_type": "code",
      "source": [],
      "metadata": {
        "id": "866s0dmJ7h1J"
      },
      "execution_count": null,
      "outputs": []
    },
    {
      "cell_type": "markdown",
      "source": [
        "### ML Model - 3"
      ],
      "metadata": {
        "id": "Fze-IPXLpx6K"
      }
    },
    {
      "cell_type": "code",
      "source": [
        "xgbc=XGBClassifier()"
      ],
      "metadata": {
        "id": "FFrSXAtrpx6M"
      },
      "execution_count": null,
      "outputs": []
    },
    {
      "cell_type": "code",
      "source": [
        "# finding the best parameters for XGBRegressor by gridsearchcv\n",
        "xgbc_param={'n_estimators': [100,125,150],'max_depth': [7,10,15],'criterion': ['entropy']}\n",
        "xgbc_grid=GridSearchCV(estimator=xgbc,param_grid=xgbc_param,cv=3,scoring='recall',verbose=5,n_jobs=-1)"
      ],
      "metadata": {
        "id": "7nSuM3aM8BvA"
      },
      "execution_count": null,
      "outputs": []
    },
    {
      "cell_type": "code",
      "source": [
        "xgbc_grid.fit(X_train, y_train)"
      ],
      "metadata": {
        "id": "O5I10RO-8EZe"
      },
      "execution_count": null,
      "outputs": []
    },
    {
      "cell_type": "code",
      "source": [
        "xgb_y_pred_train=xgbc_grid.predict(X_train)\n",
        "xgb_y_pred_test=xgbc_grid.predict(X_test)"
      ],
      "metadata": {
        "id": "e0n63T4u8EWK"
      },
      "execution_count": null,
      "outputs": []
    },
    {
      "cell_type": "code",
      "source": [
        "model_details(y_train, y_test, xgb_y_pred_train, xgb_y_pred_test, 'XGBClassifier')"
      ],
      "metadata": {
        "id": "aaOQMWRx8ETh"
      },
      "execution_count": null,
      "outputs": []
    },
    {
      "cell_type": "code",
      "source": [
        "pd.DataFrame(model_eveluation_metrices)"
      ],
      "metadata": {
        "id": "gZ54XUgH8RmM"
      },
      "execution_count": null,
      "outputs": []
    },
    {
      "cell_type": "code",
      "source": [
        "xgbc_grid.best_params_"
      ],
      "metadata": {
        "id": "1M5ZjrFt97mb"
      },
      "execution_count": null,
      "outputs": []
    },
    {
      "cell_type": "markdown",
      "source": [
        "# **Conclusion**"
      ],
      "metadata": {
        "id": "gCX9965dhzqZ"
      }
    },
    {
      "cell_type": "markdown",
      "source": [
        "Clustering and sentiment analysis were performed on a dataset of customer reviews for the food delivery service Zomato. The purpose of this analysis was to understand the customer's experience and gain insights about their feedback.\n",
        "\n",
        "Overall, this analysis provided valuable insights into the customer's experience with Zomato, and it could be used to guide future business decisions and improve the service. Additionally, by combining clustering and sentiment analysis techniques, a more comprehensive understanding of customer feedback was achieved. \n",
        "\n",
        "Other important discoveries during analysis are - \n",
        "* AB's - Absolute Barbecues, show maximum rating on average and Hotel Zara Hi-Fi has lowest average rating.\n",
        "\n",
        "* North Indian food followed by chinese are in demand food as sold by most of the restaurants.\n",
        "\n",
        "* Satwinder singh is the most popular critic who has maximum number of follower.\n",
        "\n",
        "* Collage - Hyatt Hyderabad Gachibowli is most expensive restaurant.\n",
        "\n",
        "* Amul is the most affordable restaurant."
      ],
      "metadata": {
        "id": "Fjb1IsQkh3yE"
      }
    },
    {
      "cell_type": "markdown",
      "source": [
        "### ***Hurrah! You have successfully completed your Machine Learning Capstone Project !!!***"
      ],
      "metadata": {
        "id": "gIfDvo9L0UH2"
      }
    }
  ]
}